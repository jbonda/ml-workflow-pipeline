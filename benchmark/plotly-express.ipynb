{
 "cells": [
  {
   "cell_type": "markdown",
   "metadata": {},
   "source": [
    "# Plot CSV Data in Python via [Plotly](https://plotly.com/python/plot-data-from-csv/)"
   ]
  },
  {
   "cell_type": "code",
   "execution_count": 5,
   "metadata": {},
   "outputs": [
    {
     "name": "stdout",
     "output_type": "stream",
     "text": [
      "     Unnamed: 0     biking    smoking  heart.disease\n",
      "0             1  30.801246  10.896608      11.769423\n",
      "1             2  65.129215   2.219563       2.854081\n",
      "2             3   1.959665  17.588331      17.177803\n",
      "3             4  44.800196   2.802559       6.816647\n",
      "4             5  69.428454  15.974505       4.062224\n",
      "..          ...        ...        ...            ...\n",
      "493         494  47.660440  27.562464      11.294392\n",
      "494         495  45.097203  21.385620       9.616762\n",
      "495         496   8.279743   6.423720      13.495168\n",
      "496         497  42.345863  20.741328      10.115865\n",
      "497         498  30.774254  23.610175      11.843556\n",
      "\n",
      "[498 rows x 4 columns]\n"
     ]
    }
   ],
   "source": [
    "import pandas as pd\n",
    "import plotly.express as px\n",
    "\n",
    "# Upload file from the user.\n",
    "\n",
    "df = pd.read_csv('https://raw.githubusercontent.com/bnsreenu/python_for_microscopists/master/268-How%20to%20deploy%20your%20trained%20machine%20learning%20model%20into%20a%20local%20web%20application/files_for_training_model/heart_data.csv')\n",
    "\n",
    "print(df)"
   ]
  },
  {
   "cell_type": "code",
   "execution_count": 6,
   "metadata": {},
   "outputs": [],
   "source": [
    "fig = px.scatter(df, x=\"smoking\", y=\"heart.disease\")"
   ]
  },
  {
   "cell_type": "code",
   "execution_count": 7,
   "metadata": {},
   "outputs": [
    {
     "name": "stdout",
     "output_type": "stream",
     "text": [
      "Figure({\n",
      "    'data': [{'hovertemplate': 'smoking=%{x}<br>heart.disease=%{y}<extra></extra>',\n",
      "              'legendgroup': '',\n",
      "              'marker': {'color': '#636efa', 'symbol': 'circle'},\n",
      "              'mode': 'markers',\n",
      "              'name': '',\n",
      "              'orientation': 'v',\n",
      "              'showlegend': False,\n",
      "              'type': 'scatter',\n",
      "              'x': array([10.89660802,  2.21956318, 17.58833051, ...,  6.42371953, 20.74132754,\n",
      "                          23.61017497]),\n",
      "              'xaxis': 'x',\n",
      "              'y': array([11.76942278,  2.85408148, 17.17780348, ..., 13.49516765, 10.11586515,\n",
      "                          11.84355576]),\n",
      "              'yaxis': 'y'}],\n",
      "    'layout': {'legend': {'tracegroupgap': 0},\n",
      "               'margin': {'t': 60},\n",
      "               'template': '...',\n",
      "               'xaxis': {'anchor': 'y', 'domain': [0.0, 1.0], 'title': {'text': 'smoking'}},\n",
      "               'yaxis': {'anchor': 'x', 'domain': [0.0, 1.0], 'title': {'text': 'heart.disease'}}}\n",
      "})\n"
     ]
    }
   ],
   "source": [
    "print(fig)"
   ]
  },
  {
   "cell_type": "code",
   "execution_count": 8,
   "metadata": {},
   "outputs": [],
   "source": [
    "fig.write_image(\"scatter-plot.png\")"
   ]
  },
  {
   "cell_type": "code",
   "execution_count": 10,
   "metadata": {},
   "outputs": [
    {
     "name": "stdout",
     "output_type": "stream",
     "text": [
      "Figure({\n",
      "    'data': [{'alignmentgroup': 'True',\n",
      "              'bingroup': 'x',\n",
      "              'histfunc': 'sum',\n",
      "              'hovertemplate': 'smoking=%{x}<br>sum of heart.disease=%{y}<extra></extra>',\n",
      "              'legendgroup': '',\n",
      "              'marker': {'color': '#636efa', 'pattern': {'shape': ''}},\n",
      "              'name': '',\n",
      "              'offsetgroup': '',\n",
      "              'orientation': 'v',\n",
      "              'showlegend': False,\n",
      "              'type': 'histogram',\n",
      "              'x': array([10.89660802,  2.21956318, 17.58833051, ...,  6.42371953, 20.74132754,\n",
      "                          23.61017497]),\n",
      "              'xaxis': 'x',\n",
      "              'y': array([11.76942278,  2.85408148, 17.17780348, ..., 13.49516765, 10.11586515,\n",
      "                          11.84355576]),\n",
      "              'yaxis': 'y'}],\n",
      "    'layout': {'barmode': 'relative',\n",
      "               'legend': {'tracegroupgap': 0},\n",
      "               'margin': {'t': 60},\n",
      "               'template': '...',\n",
      "               'xaxis': {'anchor': 'y', 'domain': [0.0, 1.0], 'title': {'text': 'smoking'}},\n",
      "               'yaxis': {'anchor': 'x', 'domain': [0.0, 1.0], 'title': {'text': 'sum of heart.disease'}}}\n",
      "})\n"
     ]
    }
   ],
   "source": [
    "gif = px.histogram(df, x=\"smoking\", y=\"heart.disease\")\n",
    "\n",
    "print(gif)\n",
    "\n",
    "gif.write_image(\"bar-chart.png\")"
   ]
  }
 ],
 "metadata": {
  "kernelspec": {
   "display_name": "Python 3 (ipykernel)",
   "language": "python",
   "name": "python3"
  },
  "language_info": {
   "codemirror_mode": {
    "name": "ipython",
    "version": 3
   },
   "file_extension": ".py",
   "mimetype": "text/x-python",
   "name": "python",
   "nbconvert_exporter": "python",
   "pygments_lexer": "ipython3",
   "version": "3.11.5"
  }
 },
 "nbformat": 4,
 "nbformat_minor": 2
}
